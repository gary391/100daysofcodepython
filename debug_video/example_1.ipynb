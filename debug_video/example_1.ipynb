{
 "cells": [
  {
   "metadata": {},
   "cell_type": "markdown",
   "source": [
    "How to debug using IDE debugger - In this program the value of `b` is not getting updated. \n",
    "\n",
    "- np.zeros does not replace values in-place; it always creates a new array filled with zeros, meaning it does not modify the existing array you are working with."
   ],
   "id": "6ecae855c3519b14"
  },
  {
   "metadata": {
    "ExecuteTime": {
     "end_time": "2025-02-08T17:12:55.006382Z",
     "start_time": "2025-02-08T17:12:55.002269Z"
    }
   },
   "cell_type": "code",
   "source": "import numpy as np",
   "id": "c6ff8166004b952d",
   "outputs": [],
   "execution_count": 3
  },
  {
   "metadata": {
    "ExecuteTime": {
     "end_time": "2025-02-08T17:13:34.698046Z",
     "start_time": "2025-02-08T17:13:34.693087Z"
    }
   },
   "cell_type": "code",
   "source": [
    "\n",
    "def inc_array(x):\n",
    "    # Location postion 1\n",
    "    x[1] + x[1] + 1\n",
    "\n",
    "def comp_array(x, y):\n",
    "    if x[0] < y [0]:\n",
    "        y = np.zeros(4)\n",
    "    print(f\"y is function, {y}\")"
   ],
   "id": "4dd6576a4230b1a2",
   "outputs": [],
   "execution_count": 7
  },
  {
   "metadata": {
    "ExecuteTime": {
     "end_time": "2025-02-08T17:13:30.420166Z",
     "start_time": "2025-02-08T17:13:30.411294Z"
    }
   },
   "cell_type": "code",
   "source": [
    "\n",
    "a = np.array([0,1,2,3])\n",
    "b = np.array([1,2,3,4])\n",
    "\n",
    "inc_array(a)\n",
    "comp_array(a, b)\n",
    "print(f\"a: {a}\")\n",
    "print(f\"b: {b}\")\n"
   ],
   "id": "34ece0c154610eaa",
   "outputs": [
    {
     "name": "stdout",
     "output_type": "stream",
     "text": [
      "y is function, [0. 0. 0. 0.]\n",
      "a: [0 1 2 3]\n",
      "b: [1 2 3 4]\n"
     ]
    }
   ],
   "execution_count": 6
  }
 ],
 "metadata": {
  "kernelspec": {
   "display_name": "Python 3",
   "language": "python",
   "name": "python3"
  },
  "language_info": {
   "codemirror_mode": {
    "name": "ipython",
    "version": 2
   },
   "file_extension": ".py",
   "mimetype": "text/x-python",
   "name": "python",
   "nbconvert_exporter": "python",
   "pygments_lexer": "ipython2",
   "version": "2.7.6"
  }
 },
 "nbformat": 4,
 "nbformat_minor": 5
}
